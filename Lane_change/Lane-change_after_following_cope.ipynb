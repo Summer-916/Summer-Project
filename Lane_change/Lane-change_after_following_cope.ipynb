{
 "cells": [
  {
   "cell_type": "markdown",
   "id": "b8cf5765",
   "metadata": {},
   "source": [
    "# Preprocess data"
   ]
  },
  {
   "cell_type": "code",
   "execution_count": 18,
   "id": "f450fc53",
   "metadata": {},
   "outputs": [
    {
     "name": "stdout",
     "output_type": "stream",
     "text": [
      "Load complete!\n"
     ]
    }
   ],
   "source": [
    "import json\n",
    "\n",
    "def load_and_convert_data(input_file):\n",
    "    vehicles_data = {}\n",
    "\n",
    "    with open(input_file, 'r') as f:\n",
    "        for line in f:\n",
    "            obj = json.loads(line.strip())\n",
    "            vehicle_id = obj['vehicle_id']\n",
    "            timestamps = [ts / 1000 for ts in obj['timestamp']]  # 毫秒转秒\n",
    "            local_ys = [y * 0.3048 for y in obj['local_y']]  # 英尺转米\n",
    "            v_vel = [vel * 0.681818 for vel in obj['v_vel']]  # 英尺/秒转英里/小时\n",
    "            v_acc = obj['v_acc']\n",
    "            lane_ids = obj['lane_id']\n",
    "            followings = obj['following']\n",
    "            space_headways = obj['space_headway']\n",
    "\n",
    "            vehicles_data[vehicle_id] = {\n",
    "                'timestamp': timestamps,\n",
    "                'local_y': local_ys,\n",
    "                'v_vel': v_vel,\n",
    "                'v_acc': v_acc,\n",
    "                'lane_id': lane_ids,\n",
    "                'following': followings,\n",
    "                'space_headway': space_headways,\n",
    "            }\n",
    "\n",
    "    return vehicles_data\n",
    "\n",
    "input_file = '../trajectories-0400-0415.json'\n",
    "vehicles_data = load_and_convert_data(input_file)\n",
    "print(\"Load complete!\")"
   ]
  },
  {
   "cell_type": "markdown",
   "id": "c0cc472e",
   "metadata": {},
   "source": [
    "# Find lane-change event meeting conditions"
   ]
  },
  {
   "cell_type": "code",
   "execution_count": 19,
   "id": "a2ccb4f1",
   "metadata": {},
   "outputs": [
    {
     "name": "stdout",
     "output_type": "stream",
     "text": [
      "Record complete!\n"
     ]
    }
   ],
   "source": [
    "def detect_lane_changes(vehicles_data, output_file):\n",
    "    lane_changes = []\n",
    "    \n",
    "    for vehicle_id, data in vehicles_data.items():\n",
    "        lane_id = data['lane_id']\n",
    "        timestamps = data['timestamp']\n",
    "        following = data['following']\n",
    "\n",
    "        for i in range(1, len(lane_id)):\n",
    "            if lane_id[i] != lane_id[i - 1] and following[i] != 0:\n",
    "                lane_changes.append({\n",
    "                    'vehicle_id': vehicle_id,\n",
    "                    'before_lane_id': lane_id[i-1],\n",
    "                    'after_lane_id': lane_id[i],\n",
    "                    'before_change_timestamp': timestamps[i - 1],\n",
    "                    'after_change_timestamp': timestamps[i],\n",
    "                    'after_following_id': following[i]\n",
    "                })\n",
    "\n",
    "    with open(output_file, 'w') as f:\n",
    "        for change in lane_changes:\n",
    "            json.dump(change, f)\n",
    "            f.write('\\n')\n",
    "\n",
    "output_file = 'trajectories-0400-0415-pre-after-following.json'\n",
    "detect_lane_changes(vehicles_data, output_file)\n",
    "\n",
    "print('Record complete!')"
   ]
  },
  {
   "cell_type": "markdown",
   "id": "f3c742f6",
   "metadata": {},
   "source": [
    "# Complete the detailed file"
   ]
  },
  {
   "cell_type": "code",
   "execution_count": 20,
   "id": "0f93dbb8",
   "metadata": {},
   "outputs": [
    {
     "name": "stdout",
     "output_type": "stream",
     "text": [
      "Processed 200 vehicles\n",
      "Processed 400 vehicles\n",
      "Processed 600 vehicles\n",
      "Processed 800 vehicles\n",
      "Detail record complete!\n"
     ]
    }
   ],
   "source": [
    "def extract_detailed_after_following(vehicles_data, lane_changes_file, output_file, delta_t=30):\n",
    "    detailed_after_following = []\n",
    "    count = 0\n",
    "\n",
    "    with open(lane_changes_file, 'r') as f:\n",
    "        for line in f:\n",
    "            change = json.loads(line.strip())\n",
    "            after_following_id = change['after_following_id']\n",
    "            before_change = change['before_change_timestamp']\n",
    "            after_change = change['after_change_timestamp']\n",
    "\n",
    "            if after_following_id in vehicles_data:\n",
    "                after_following_data = vehicles_data[after_following_id]\n",
    "                timestamps = after_following_data['timestamp']\n",
    "                space_headways = after_following_data['space_headway']\n",
    "                v_accs = after_following_data['v_acc']\n",
    "                v_vels = after_following_data['v_vel']\n",
    "\n",
    "                start_time = before_change - 5\n",
    "                end_time = after_change + delta_t / 2\n",
    "\n",
    "                event_details = {\n",
    "                    'vehicle_id': change['vehicle_id'],\n",
    "                    'before_change_timestamp': before_change,\n",
    "                    'after_change_timestamp': after_change,\n",
    "                    'timestamps': [],\n",
    "                    'gaps': [],\n",
    "                    'accs': [],\n",
    "                    'vels': []\n",
    "                }\n",
    "\n",
    "                for i, ts in enumerate(timestamps):\n",
    "                    if start_time <= ts <= end_time:\n",
    "                        event_details['timestamps'].append(ts)\n",
    "                        event_details['gaps'].append(space_headways[i])\n",
    "                        event_details['accs'].append(v_accs[i])\n",
    "                        event_details['vels'].append(v_vels[i])\n",
    "\n",
    "                if event_details['timestamps']:\n",
    "                    detailed_after_following.append(event_details)\n",
    "\n",
    "                count += 1\n",
    "                if count % 200 == 0:\n",
    "                    print(f\"Processed {count} vehicles\")\n",
    "\n",
    "    with open(output_file, 'w') as f:\n",
    "        for record in detailed_after_following:\n",
    "            json.dump(record, f)\n",
    "            f.write('\\n')\n",
    "\n",
    "# 生成详细的变道后后车信息\n",
    "detailed_output_file = 'trajectories-0400-0415-detailed-after-following.json'\n",
    "extract_detailed_after_following(vehicles_data, output_file, detailed_output_file)\n",
    "\n",
    "print('Detail record complete!')"
   ]
  }
 ],
 "metadata": {
  "kernelspec": {
   "display_name": "Python (i24-motion)",
   "language": "python",
   "name": "i24-motion"
  },
  "language_info": {
   "codemirror_mode": {
    "name": "ipython",
    "version": 3
   },
   "file_extension": ".py",
   "mimetype": "text/x-python",
   "name": "python",
   "nbconvert_exporter": "python",
   "pygments_lexer": "ipython3",
   "version": "3.11.4"
  }
 },
 "nbformat": 4,
 "nbformat_minor": 5
}

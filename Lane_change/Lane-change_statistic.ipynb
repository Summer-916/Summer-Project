{
 "cells": [
  {
   "cell_type": "markdown",
   "id": "47787d01",
   "metadata": {},
   "source": [
    "# Obtain number of total lane-change events"
   ]
  },
  {
   "cell_type": "code",
   "execution_count": 1,
   "id": "1358cecd",
   "metadata": {},
   "outputs": [
    {
     "name": "stdout",
     "output_type": "stream",
     "text": [
      "Total number of JSON objects in file: 1043\n"
     ]
    }
   ],
   "source": [
    "import json\n",
    "\n",
    "def count_total_events(file_path):\n",
    "    total_count = 0\n",
    "    with open(file_path, 'r') as f:\n",
    "        for line in f:\n",
    "            if line.strip():  # 检查是否为空行\n",
    "                json.loads(line)\n",
    "                total_count += 1\n",
    "    return total_count\n",
    "\n",
    "json_file_path = 'trajectories-0400-0415-lane-change.json'\n",
    "total_count = count_total_events(json_file_path)\n",
    "print(f\"Total number of JSON objects in file: {total_count}\")"
   ]
  },
  {
   "cell_type": "markdown",
   "id": "67347296",
   "metadata": {},
   "source": [
    "# Obtain number of come-and-go for each lane"
   ]
  },
  {
   "cell_type": "code",
   "execution_count": 3,
   "id": "d306949e",
   "metadata": {},
   "outputs": [
    {
     "name": "stdout",
     "output_type": "stream",
     "text": [
      "Total number of lane changes from lane 1: 26\n",
      "Total number of lane changes from lane 2: 66\n",
      "Total number of lane changes from lane 3: 134\n",
      "Total number of lane changes from lane 4: 171\n",
      "Total number of lane changes from lane 5: 222\n",
      "Total number of lane changes from lane 6: 214\n",
      "Total number of lane changes from lane 7: 210\n",
      "--------------------------------------------------------------\n",
      "Total number of lane changes from lane 1: 28\n",
      "Total number of lane changes from lane 2: 125\n",
      "Total number of lane changes from lane 3: 171\n",
      "Total number of lane changes from lane 4: 191\n",
      "Total number of lane changes from lane 5: 232\n",
      "Total number of lane changes from lane 6: 276\n",
      "Total number of lane changes from lane 7: 20\n"
     ]
    }
   ],
   "source": [
    "def count_lane_changes_from_per_lane(file_path, lane_range=(1, 7)):\n",
    "    lane_change_counts = {lane: 0 for lane in range(lane_range[0], lane_range[1] + 1)}\n",
    "    with open(file_path, 'r') as f:\n",
    "        for line in f:\n",
    "            change = json.loads(line.strip())\n",
    "            before_lane_id = change.get('before_lane_id')\n",
    "            if before_lane_id is not None and lane_range[0] <= before_lane_id <= lane_range[1]:\n",
    "                lane_change_counts[before_lane_id] += 1\n",
    "    return lane_change_counts\n",
    "\n",
    "def count_lane_changes_to_per_lane(file_path, lane_range=(1, 7)):\n",
    "    lane_change_counts = {lane: 0 for lane in range(lane_range[0], lane_range[1] + 1)}\n",
    "    with open(file_path, 'r') as f:\n",
    "        for line in f:\n",
    "            change = json.loads(line.strip())\n",
    "            before_lane_id = change.get('after_lane_id')\n",
    "            if before_lane_id is not None and lane_range[0] <= before_lane_id <= lane_range[1]:\n",
    "                lane_change_counts[before_lane_id] += 1\n",
    "    return lane_change_counts\n",
    "\n",
    "lane_changes_file = 'trajectories-0400-0415-lane-change.json'\n",
    "from_lane_change_counts = count_lane_changes_from_per_lane(lane_changes_file)\n",
    "to_lane_change_counts = count_lane_changes_to_per_lane(lane_changes_file)\n",
    "\n",
    "for lane, count in from_lane_change_counts.items():\n",
    "    print(f\"Total number of lane changes from lane {lane}: {count}\")\n",
    "    \n",
    "print(\"--------------------------------------------------------------\")\n",
    "\n",
    "for lane, count in to_lane_change_counts.items():\n",
    "    print(f\"Total number of lane changes from lane {lane}: {count}\")"
   ]
  },
  {
   "cell_type": "markdown",
   "id": "30fe4f41",
   "metadata": {},
   "source": [
    "# Get the percentage of invents without cars nearby"
   ]
  },
  {
   "cell_type": "code",
   "execution_count": 7,
   "id": "f60ce28b",
   "metadata": {},
   "outputs": [
    {
     "name": "stdout",
     "output_type": "stream",
     "text": [
      "1043\n",
      "Percentage of no before preceding: 21.96%\n",
      "Percentage of no before following: 8.15%\n",
      "Percentage of no after preceding: 2.97%\n",
      "Percentage of no after following: 6.04%\n"
     ]
    }
   ],
   "source": [
    "def calculate_no_follow_event_percentage(file_path):\n",
    "    total_events = 0\n",
    "    no_before_preceding = 0\n",
    "    no_before_following = 0\n",
    "    no_after_preceding = 0\n",
    "    no_after_following = 0\n",
    "\n",
    "    with open(file_path, 'r') as f:\n",
    "        for line in f:\n",
    "            event = json.loads(line.strip())\n",
    "            total_events += 1\n",
    "            if event.get('before_preceding_id') == 0:\n",
    "                no_before_preceding += 1\n",
    "            if event.get('before_following_id') == 0:\n",
    "                no_before_following += 1\n",
    "            if event.get('after_preceding_id') == 0:\n",
    "                no_after_preceding += 1\n",
    "            if event.get('after_following_id') == 0:\n",
    "                no_after_following += 1\n",
    "\n",
    "    percentages = {\n",
    "        'no_before_preceding': (no_before_preceding / total_events) * 100,\n",
    "        'no_before_following': (no_before_following / total_events) * 100,\n",
    "        'no_after_preceding': (no_after_preceding / total_events) * 100,\n",
    "        'no_after_following': (no_after_following / total_events) * 100\n",
    "    }\n",
    "\n",
    "    return percentages\n",
    "\n",
    "lane_changes_file = 'trajectories-0400-0415-lane-change.json'\n",
    "percentages = calculate_no_follow_event_percentage(lane_changes_file)\n",
    "\n",
    "print(f\"Percentage of no before preceding: {percentages['no_before_preceding']:.2f}%\")\n",
    "print(f\"Percentage of no before following: {percentages['no_before_following']:.2f}%\")\n",
    "print(f\"Percentage of no after preceding: {percentages['no_after_preceding']:.2f}%\")\n",
    "print(f\"Percentage of no after following: {percentages['no_after_following']:.2f}%\")"
   ]
  }
 ],
 "metadata": {
  "kernelspec": {
   "display_name": "Python (i24-motion)",
   "language": "python",
   "name": "i24-motion"
  },
  "language_info": {
   "codemirror_mode": {
    "name": "ipython",
    "version": 3
   },
   "file_extension": ".py",
   "mimetype": "text/x-python",
   "name": "python",
   "nbconvert_exporter": "python",
   "pygments_lexer": "ipython3",
   "version": "3.11.4"
  }
 },
 "nbformat": 4,
 "nbformat_minor": 5
}

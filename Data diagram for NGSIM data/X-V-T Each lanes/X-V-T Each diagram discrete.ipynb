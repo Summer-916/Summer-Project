{
 "cells": [
  {
   "cell_type": "markdown",
   "id": "c1058787",
   "metadata": {},
   "source": [
    "# Preprocess"
   ]
  },
  {
   "cell_type": "code",
   "execution_count": null,
   "id": "ab364d93",
   "metadata": {},
   "outputs": [],
   "source": [
    "import json\n",
    "import numpy as np\n",
    "\n",
    "# 定义输入文件名\n",
    "input_file_path = 'trajectories-0500-0515.json'\n",
    "\n",
    "# 初始化最大最小值\n",
    "min_timestamp, max_timestamp = float('inf'), float('-inf')\n",
    "min_position, max_position = float('inf'), float('-inf')\n",
    "\n",
    "# 遍历文件以找到最大最小值\n",
    "with open(input_file_path, 'r') as file:\n",
    "    for line in file:\n",
    "        record = json.loads(line)\n",
    "        timestamps = np.array(record['timestamp']) / 1000  # 将时间戳从毫秒转换为秒\n",
    "        local_y_positions = np.array(record['local_y']) * 0.3048  # 将位置从英尺转换为米\n",
    "        land_id = record['lane_id']\n",
    "\n",
    "        # 更新最大最小值\n",
    "        min_timestamp = min(min_timestamp, timestamps.min())\n",
    "        max_timestamp = max(max_timestamp, timestamps.max())\n",
    "        min_position = min(min_position, local_y_positions.min())\n",
    "        max_position = max(max_position, local_y_positions.max())\n",
    "\n",
    "# 打印出找到的最大最小值（可选）\n",
    "print(f\"Timestamp range: {min_timestamp} - {max_timestamp}\")\n",
    "print(f\"Position range: {min_position} - {max_position}\")"
   ]
  },
  {
   "cell_type": "code",
   "execution_count": null,
   "id": "a3fdf335",
   "metadata": {},
   "outputs": [],
   "source": [
    "def compute_speed(record):\n",
    "    timestamps = np.array(record['timestamp']) / 1000\n",
    "    local_y_positions = np.array(record['local_y']) * 0.3048\n",
    "    \n",
    "    # 确保数据按时间排序\n",
    "    sorted_indices = np.argsort(timestamps)\n",
    "    timestamps = timestamps[sorted_indices]\n",
    "    local_y_positions = local_y_positions[sorted_indices]\n",
    "\n",
    "    \n",
    "    # 计算速度\n",
    "    speed = np.diff(local_y_positions) / np.diff(timestamps)\n",
    "    speed = np.append(speed[0], speed)  # 保持速度数组与位置数组长度一致\n",
    "    speed *= 2.23694 # m/s转化成mph\n",
    "    \n",
    "    return timestamps, local_y_positions, speed"
   ]
  },
  {
   "cell_type": "markdown",
   "id": "ad707b3e",
   "metadata": {},
   "source": [
    "# Create grids"
   ]
  },
  {
   "cell_type": "code",
   "execution_count": null,
   "id": "56a0101c",
   "metadata": {},
   "outputs": [],
   "source": [
    "def get_grid(min_x, max_x, min_t, max_t, x_res, t_res):\n",
    "    x_grid = np.arange(min_x, max_x + x_res, x_res)\n",
    "    t_grid = np.arange(min_t, max_t + t_res, t_res)\n",
    "    return x_grid, t_grid\n",
    "\n",
    "\n",
    "x_res, t_res = 10, 0.8  # 分辨率可以根据需要调整\n",
    "x_grid, t_grid = get_grid(min_position, max_position, min_timestamp, max_timestamp, x_res, t_res)"
   ]
  },
  {
   "cell_type": "markdown",
   "id": "acf444f7",
   "metadata": {},
   "source": [
    "# Distribute the data into grids"
   ]
  },
  {
   "cell_type": "code",
   "execution_count": null,
   "id": "9eddaff5",
   "metadata": {},
   "outputs": [],
   "source": [
    "def grid_traj(record, x_grid, t_grid, global_x_t_speed_dict, global_x_t_density_dict):\n",
    "    timestamps, positions, speeds = compute_speed(record)\n",
    "    lane_ids = record['lane_id']\n",
    "    \n",
    "    t_grid_ind, data_ind = 0, 0\n",
    "    while t_grid_ind < len(t_grid) and t_grid[t_grid_ind] < timestamps[0]:\n",
    "        t_grid_ind += 1\n",
    "    while t_grid_ind < len(t_grid):\n",
    "        while timestamps[data_ind] < t_grid[t_grid_ind]:\n",
    "            data_ind += 1\n",
    "            if data_ind >= len(timestamps):\n",
    "                break\n",
    "        if data_ind >= len(timestamps):\n",
    "            break\n",
    "        for i in range(len(x_grid) - 1):\n",
    "            if positions[data_ind] >= x_grid[i] and positions[data_ind] < x_grid[i + 1]:\n",
    "                lane_id = lane_ids[data_ind]\n",
    "                if lane_id not in global_x_t_speed_dict:\n",
    "                    global_x_t_speed_dict[lane_id] = {}\n",
    "                    global_x_t_density_dict[lane_id] = {}\n",
    "                key = (x_grid[i], t_grid[t_grid_ind])\n",
    "                if key not in global_x_t_speed_dict[lane_id]:\n",
    "                    global_x_t_speed_dict[lane_id][key] = []\n",
    "                    global_x_t_density_dict[lane_id][key] = 0\n",
    "                global_x_t_speed_dict[lane_id][key].append(speeds[data_ind])\n",
    "                global_x_t_density_dict[lane_id][key] += 1\n",
    "        t_grid_ind += 1\n",
    "    return\n",
    "\n",
    "# 初始化全局速度和密度字典\n",
    "global_x_t_speed_dict = {i: {} for i in range(1, 8)}\n",
    "global_x_t_density_dict = {i: {} for i in range(1, 8)}\n",
    "\n",
    "# 重新遍历文件，处理每一条数据\n",
    "with open(input_file_path, 'r') as file:\n",
    "    i = 0\n",
    "    for line in file:\n",
    "        record = json.loads(line)\n",
    "        grid_traj(record, x_grid, t_grid, global_x_t_speed_dict, global_x_t_density_dict)\n",
    "        i += 1\n",
    "        if i % 200 == 0:\n",
    "            print(f\"Processed {i} vehicles\")\n",
    "    print(\"Complete!\")\n",
    "\n",
    "print(f\"Length of global_x_t_speed_dict: {[len(global_x_t_speed_dict[i]) for i in range(1, 8)]}\")"
   ]
  },
  {
   "cell_type": "markdown",
   "id": "fa52a20b",
   "metadata": {},
   "source": [
    "# Plot each vehicle"
   ]
  },
  {
   "cell_type": "code",
   "execution_count": null,
   "id": "7e601b93",
   "metadata": {
    "scrolled": true
   },
   "outputs": [],
   "source": [
    "import matplotlib.pyplot as plt\n",
    "from matplotlib.colors import LinearSegmentedColormap\n",
    "from mpl_toolkits.axes_grid1 import make_axes_locatable\n",
    "import matplotlib.ticker as mticker\n",
    "import numpy as np\n",
    "import datetime\n",
    "\n",
    "def plot_all_lanes(title, x_res=10, t_res=2, plot_density=False):\n",
    "    # 设置图像字体\n",
    "    plt.rc('font', family='serif', size=14)\n",
    "    fig, axes = plt.subplots(nrows=3, ncols=2, figsize=(20, 20))\n",
    "    axes = axes.flatten()\n",
    "\n",
    "    jet = plt.cm.jet\n",
    "    colors = [jet(x) for x in np.linspace(1, 0.5, 256)]\n",
    "    green_to_red = LinearSegmentedColormap.from_list('GreenToRed', colors, N=256)\n",
    "    \n",
    "    for lane_id in range(1, 7):\n",
    "        ax = axes[lane_id - 1]\n",
    "        divider = make_axes_locatable(ax)\n",
    "        cax = divider.append_axes(\"right\", size=\"3%\", pad=0.05)\n",
    "\n",
    "        if plot_density:\n",
    "            data = np.array([[global_x_t_density_dict[lane_id].get((x, t), 0) for t in t_grid] for x in x_grid])\n",
    "            label = 'Density'\n",
    "            dmin, dmax = 0, np.max(data)\n",
    "        else:\n",
    "            data = np.array([[np.mean(global_x_t_speed_dict[lane_id].get((x, t), [0])) if global_x_t_speed_dict[lane_id].get((x, t)) else 0 for t in t_grid] for x in x_grid])\n",
    "            label = 'Speed (mph)'\n",
    "            #data = np.clip(data, 0, 55)\n",
    "            dmin, dmax = 0, 55\n",
    "            print(f\"Lane {lane_id} clipped data min: {np.min(data)}, max: {np.max(data)}\")  # 调试输出\n",
    "        \n",
    "\n",
    "            \n",
    "        # 调整时间轴和位置轴的范围\n",
    "        extent = [min_timestamp + 9 * 3600, max_timestamp + 9 * 3600, min_position, max_position]\n",
    "        im = ax.imshow(data, cmap=green_to_red, aspect='auto', origin='lower', extent=extent, vmin = dmin, vmax = dmax)\n",
    "\n",
    "        # 添加颜色条\n",
    "        plt.colorbar(im, cax=cax).set_label(label, rotation=90, labelpad=20)\n",
    "        ax.set_xlabel(\"Time\")\n",
    "        ax.set_ylabel(\"Meter Marker\")\n",
    "        ax.set_title(f\"Lane {lane_id}\")\n",
    "\n",
    "         # 调整x轴时间格式\n",
    "        ticks_loc = ax.get_xticks().tolist()\n",
    "        ax.xaxis.set_major_locator(mticker.FixedLocator(ticks_loc))\n",
    "        x_datetime = [datetime.datetime.fromtimestamp(ts) for ts in ticks_loc]\n",
    "        labels = [d.strftime('%H:%M:%S') for d in x_datetime]\n",
    "        ax.set_xticklabels(labels, rotation=45)\n",
    "\n",
    "\n",
    "    fig.suptitle(title)\n",
    "    plt.tight_layout(rect=[0, 0, 1, 0.96])\n",
    "    plt.show()\n",
    "\n",
    "# 调用绘图函数\n",
    "plot_all_lanes('Vehicle Trajectories for All Lanes', x_res=10, t_res=0.8)"
   ]
  }
 ],
 "metadata": {
  "kernelspec": {
   "display_name": "Python (i24-motion)",
   "language": "python",
   "name": "i24-motion"
  },
  "language_info": {
   "codemirror_mode": {
    "name": "ipython",
    "version": 3
   },
   "file_extension": ".py",
   "mimetype": "text/x-python",
   "name": "python",
   "nbconvert_exporter": "python",
   "pygments_lexer": "ipython3",
   "version": "3.11.4"
  }
 },
 "nbformat": 4,
 "nbformat_minor": 5
}
